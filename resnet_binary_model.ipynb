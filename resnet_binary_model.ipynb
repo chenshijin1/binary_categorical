{
  "nbformat": 4,
  "nbformat_minor": 0,
  "metadata": {
    "colab": {
      "name": "resnet_binary_model.ipynb",
      "version": "0.3.2",
      "provenance": [],
      "private_outputs": true,
      "include_colab_link": true
    },
    "kernelspec": {
      "name": "python3",
      "display_name": "Python 3"
    }
  },
  "cells": [
    {
      "cell_type": "markdown",
      "metadata": {
        "id": "view-in-github",
        "colab_type": "text"
      },
      "source": [
        "<a href=\"https://colab.research.google.com/github/yasohasakii/binary_categorical/blob/master/resnet_binary_model.ipynb\" target=\"_parent\"><img src=\"https://colab.research.google.com/assets/colab-badge.svg\" alt=\"Open In Colab\"/></a>"
      ]
    },
    {
      "cell_type": "code",
      "metadata": {
        "id": "zDMv3aVvEMPt",
        "colab_type": "code",
        "colab": {}
      },
      "source": [
        "# git clone repository\n",
        "!git clone https://github.com/yasohasakii/binary_categorical.git\n",
        "!mv ./binary_categorical/* ./\n",
        "!rm -r ./binary_categorical ./sample_data"
      ],
      "execution_count": 0,
      "outputs": []
    },
    {
      "cell_type": "code",
      "metadata": {
        "id": "uVhIC2ZiFaTt",
        "colab_type": "code",
        "colab": {}
      },
      "source": [
        "# import modual\n",
        "import os, glob, time\n",
        "import numpy as np\n",
        "from keras.layers import Input\n",
        "from keras.models import Model\n",
        "from keras.preprocessing import image\n",
        "from keras.constraints import unit_norm\n",
        "from keras.callbacks import ModelCheckpoint\n",
        "from keras.layers import GlobalAveragePooling2D, Dense, Dropout\n",
        "from keras.applications.resnet50 import ResNet50"
      ],
      "execution_count": 0,
      "outputs": []
    },
    {
      "cell_type": "code",
      "metadata": {
        "id": "V3ESblWZFlSi",
        "colab_type": "code",
        "colab": {}
      },
      "source": [
        "# assert parameters\n",
        "FC_NUMS = 64\n",
        "batch_size = 10\n",
        "EPOCHS=50\n",
        "\n",
        "train_count = len(glob.glob('./PetImages/train/*/*.jpg'))\n",
        "valid_count = len(glob.glob('./PetImages/test/*/*.jpg'))"
      ],
      "execution_count": 0,
      "outputs": []
    },
    {
      "cell_type": "code",
      "metadata": {
        "id": "3vgc99dIFuHE",
        "colab_type": "code",
        "colab": {}
      },
      "source": [
        "# def build_model\n",
        "def build_model(istrain):\n",
        "    input = Input(shape = (256,256,3),name=\"kfb_image\")\n",
        "    base_model = ResNet50(include_top=False, weights='imagenet', input_tensor=input) \n",
        "    x = base_model.output\n",
        "    x = GlobalAveragePooling2D()(x)\n",
        "    x = Dense(FC_NUMS, activation='relu', kernel_constraint=unit_norm())(x)\n",
        "    if istrain:\n",
        "        x = Dropout(0.2)(x)\n",
        "    prediction = Dense(1, activation='sigmoid')(x)\n",
        "    model = Model(inputs=base_model.input, outputs=prediction)\n",
        "\n",
        "    # opt = Adam(lr=INIT_LR, decay=1e-5)\n",
        "    # model.compile(loss=\"categorical_crossentropy\", optimizer=opt, metrics=[\"accuracy\"])\n",
        "    model.compile(loss=\"binary_crossentropy\", optimizer='adam', metrics=[\"accuracy\"])\n",
        "    return model"
      ],
      "execution_count": 0,
      "outputs": []
    },
    {
      "cell_type": "code",
      "metadata": {
        "id": "VGUm-tV1GJr9",
        "colab_type": "code",
        "colab": {}
      },
      "source": [
        "# def train\n",
        "def train(train_count,valid_count,istrain=False):\n",
        "    train_datagen = image.ImageDataGenerator(\n",
        "        rescale = 1./255, \n",
        "        rotation_range=30,\n",
        "        width_shift_range=0.2,\n",
        "        height_shift_range=0.2,\n",
        "        horizontal_flip=True)\n",
        "    valid_datagen = image.ImageDataGenerator(\n",
        "        rescale = 1./255)\n",
        "\n",
        "    train_generator = train_datagen.flow_from_directory(\n",
        "        './PetImages/train/',\n",
        "        target_size=(256, 256),\n",
        "        batch_size=batch_size,\n",
        "        class_mode='binary')\n",
        "    validation_generator = valid_datagen.flow_from_directory(\n",
        "        './PetImages/test',\n",
        "        target_size=(256, 256),\n",
        "        batch_size=batch_size,\n",
        "        class_mode='binary')\n",
        "\n",
        "    model = build_model(istrain)\n",
        "    models_save_path = \"./models\"\n",
        "    if not os.path.exists(models_save_path):\n",
        "        os.makedirs(models_save_path)\n",
        "\n",
        "    checkpoint = ModelCheckpoint(filepath=os.path.join(models_save_path, 'resnet-{epoch:02d}-{val_acc:.4f}.h5'),\n",
        "                                 monitor='val_acc',\n",
        "                                 mode='max',\n",
        "                                 save_best_only=True,\n",
        "                                 save_weights_only=True)\n",
        "    print(\"Train files: {}, valid files: {}\".format(train_count,valid_count))\n",
        "    print('-----------Start training-----------')\n",
        "    start = time.time()\n",
        "    model.fit_generator(train_generator,\n",
        "                        steps_per_epoch=train_count // batch_size,\n",
        "                        epochs=EPOCHS,\n",
        "                        initial_epoch=0,\n",
        "                        validation_data=validation_generator,\n",
        "                        validation_steps=valid_count // batch_size,\n",
        "                        callbacks=[checkpoint],\n",
        "                        use_multiprocessing=False)\n",
        "    end = time.time()\n",
        "    print(\"train finished, cost time = {} hours\".format(round((end - start) / 3600.0,3)))\n",
        "    return history"
      ],
      "execution_count": 0,
      "outputs": []
    },
    {
      "cell_type": "code",
      "metadata": {
        "id": "8-cK4ZjPGbNz",
        "colab_type": "code",
        "colab": {}
      },
      "source": [
        "# def plot modual\n",
        "def plot_train_acc(history):\n",
        "    import matplotlib.pyplot as plt\n",
        "    plt.plot(history.history['acc'])\n",
        "    plt.plot(history.history['val_acc'])\n",
        "    plt.title('Model accuracy')\n",
        "    plt.ylabel('Accuracy')\n",
        "    plt.xlabel('Epoch')\n",
        "    plt.legend(['Train', 'Test'], loc='upper left')\n",
        "    plt.savefig(\"acc.png\")\n",
        "\n",
        "def plot_train_loss(history):\n",
        "    import matplotlib.pyplot as plt\n",
        "    plt.plot(history.history['loss'])\n",
        "    plt.plot(history.history['val_loss'])\n",
        "    plt.title('Model loss')\n",
        "    plt.ylabel('Loss')\n",
        "    plt.xlabel('Epoch')\n",
        "    plt.legend(['Train', 'Test'], loc='upper left')\n",
        "    plt.savefig(\"loss.png\")"
      ],
      "execution_count": 0,
      "outputs": []
    },
    {
      "cell_type": "code",
      "metadata": {
        "id": "CZTtZlqkGiLc",
        "colab_type": "code",
        "colab": {}
      },
      "source": [
        "# def test\n",
        "def test(model_path,image_dir):\n",
        "    model = build_model(False)\n",
        "    model.load_weights(model_path, by_name=True)\n",
        "    images = glob.glob(image_dir+\"/*.jpg\")\n",
        "    preds=0\n",
        "    for imgs in images:\n",
        "        im = image.load_img(imgs, target_size=(256, 256))\n",
        "        im = image.img_to_array(im)* 1. / 255\n",
        "        im = np.expand_dims(im, axis=0)\n",
        "        im =  preprocess_input(im)\n",
        "        out = model.predict(im)\n",
        "        print(np.argmax(out,axis=1))\n",
        "        preds += out\n",
        "    if preds/len(images)>0.5:\n",
        "        print(\"{}: cat\".format(os.path.basename(image_dir)))\n",
        "    else:\n",
        "        print(\"{}: dog\".format(os.path.basename(image_dir)))"
      ],
      "execution_count": 0,
      "outputs": []
    },
    {
      "cell_type": "code",
      "metadata": {
        "id": "9mX-f5P3GoHe",
        "colab_type": "code",
        "colab": {}
      },
      "source": [
        "if __name__==\"__main__\":\n",
        "    history = train(train_count,valid_count,istrain=True)\n",
        "    plot_train_loss(history)\n",
        "    plot_train_acc(history)"
      ],
      "execution_count": 0,
      "outputs": []
    }
  ]
}